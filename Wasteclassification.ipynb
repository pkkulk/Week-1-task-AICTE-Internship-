{
 "cells": [
  {
   "cell_type": "code",
   "execution_count": 4,
   "id": "054be14c-88b8-4bff-8050-8bdfe2345b10",
   "metadata": {},
   "outputs": [
    {
     "name": "stdout",
     "output_type": "stream",
     "text": [
      "Defaulting to user installation because normal site-packages is not writeable\n",
      "Requirement already satisfied: tensorflow in /home/prathmesh/.local/lib/python3.10/site-packages (2.18.0)\n",
      "Requirement already satisfied: flatbuffers>=24.3.25 in /home/prathmesh/.local/lib/python3.10/site-packages (from tensorflow) (24.12.23)\n",
      "Requirement already satisfied: six>=1.12.0 in /usr/lib/python3/dist-packages (from tensorflow) (1.16.0)\n",
      "Requirement already satisfied: grpcio<2.0,>=1.24.3 in /home/prathmesh/.local/lib/python3.10/site-packages (from tensorflow) (1.69.0)\n",
      "Requirement already satisfied: google-pasta>=0.1.1 in /home/prathmesh/.local/lib/python3.10/site-packages (from tensorflow) (0.2.0)\n",
      "Requirement already satisfied: requests<3,>=2.21.0 in /home/prathmesh/.local/lib/python3.10/site-packages (from tensorflow) (2.32.3)\n",
      "Requirement already satisfied: termcolor>=1.1.0 in /home/prathmesh/.local/lib/python3.10/site-packages (from tensorflow) (2.5.0)\n",
      "Requirement already satisfied: ml-dtypes<0.5.0,>=0.4.0 in /home/prathmesh/.local/lib/python3.10/site-packages (from tensorflow) (0.4.1)\n",
      "Requirement already satisfied: libclang>=13.0.0 in /home/prathmesh/.local/lib/python3.10/site-packages (from tensorflow) (18.1.1)\n",
      "Requirement already satisfied: absl-py>=1.0.0 in /home/prathmesh/.local/lib/python3.10/site-packages (from tensorflow) (2.1.0)\n",
      "Requirement already satisfied: keras>=3.5.0 in /home/prathmesh/.local/lib/python3.10/site-packages (from tensorflow) (3.8.0)\n",
      "Requirement already satisfied: numpy<2.1.0,>=1.26.0 in /home/prathmesh/.local/lib/python3.10/site-packages (from tensorflow) (2.0.0)\n",
      "Requirement already satisfied: typing-extensions>=3.6.6 in /home/prathmesh/.local/lib/python3.10/site-packages (from tensorflow) (4.12.2)\n",
      "Requirement already satisfied: h5py>=3.11.0 in /home/prathmesh/.local/lib/python3.10/site-packages (from tensorflow) (3.12.1)\n",
      "Requirement already satisfied: setuptools in /usr/lib/python3/dist-packages (from tensorflow) (59.6.0)\n",
      "Requirement already satisfied: opt-einsum>=2.3.2 in /home/prathmesh/.local/lib/python3.10/site-packages (from tensorflow) (3.4.0)\n",
      "Requirement already satisfied: protobuf!=4.21.0,!=4.21.1,!=4.21.2,!=4.21.3,!=4.21.4,!=4.21.5,<6.0.0dev,>=3.20.3 in /home/prathmesh/.local/lib/python3.10/site-packages (from tensorflow) (5.29.3)\n",
      "Requirement already satisfied: packaging in /home/prathmesh/.local/lib/python3.10/site-packages (from tensorflow) (24.1)\n",
      "Requirement already satisfied: astunparse>=1.6.0 in /home/prathmesh/.local/lib/python3.10/site-packages (from tensorflow) (1.6.3)\n",
      "Requirement already satisfied: tensorflow-io-gcs-filesystem>=0.23.1 in /home/prathmesh/.local/lib/python3.10/site-packages (from tensorflow) (0.37.1)\n",
      "Requirement already satisfied: tensorboard<2.19,>=2.18 in /home/prathmesh/.local/lib/python3.10/site-packages (from tensorflow) (2.18.0)\n",
      "Requirement already satisfied: gast!=0.5.0,!=0.5.1,!=0.5.2,>=0.2.1 in /home/prathmesh/.local/lib/python3.10/site-packages (from tensorflow) (0.6.0)\n",
      "Requirement already satisfied: wrapt>=1.11.0 in /home/prathmesh/.local/lib/python3.10/site-packages (from tensorflow) (1.17.2)\n",
      "Requirement already satisfied: wheel<1.0,>=0.23.0 in /usr/lib/python3/dist-packages (from astunparse>=1.6.0->tensorflow) (0.37.1)\n",
      "Requirement already satisfied: optree in /home/prathmesh/.local/lib/python3.10/site-packages (from keras>=3.5.0->tensorflow) (0.14.0)\n",
      "Requirement already satisfied: rich in /home/prathmesh/.local/lib/python3.10/site-packages (from keras>=3.5.0->tensorflow) (13.9.4)\n",
      "Requirement already satisfied: namex in /home/prathmesh/.local/lib/python3.10/site-packages (from keras>=3.5.0->tensorflow) (0.0.8)\n",
      "Requirement already satisfied: charset-normalizer<4,>=2 in /home/prathmesh/.local/lib/python3.10/site-packages (from requests<3,>=2.21.0->tensorflow) (3.3.2)\n",
      "Requirement already satisfied: urllib3<3,>=1.21.1 in /usr/local/lib/python3.10/dist-packages (from requests<3,>=2.21.0->tensorflow) (2.2.2)\n",
      "Requirement already satisfied: certifi>=2017.4.17 in /usr/lib/python3/dist-packages (from requests<3,>=2.21.0->tensorflow) (2020.6.20)\n",
      "Requirement already satisfied: idna<4,>=2.5 in /usr/lib/python3/dist-packages (from requests<3,>=2.21.0->tensorflow) (3.3)\n",
      "Requirement already satisfied: tensorboard-data-server<0.8.0,>=0.7.0 in /home/prathmesh/.local/lib/python3.10/site-packages (from tensorboard<2.19,>=2.18->tensorflow) (0.7.2)\n",
      "Requirement already satisfied: markdown>=2.6.8 in /home/prathmesh/.local/lib/python3.10/site-packages (from tensorboard<2.19,>=2.18->tensorflow) (3.7)\n",
      "Requirement already satisfied: werkzeug>=1.0.1 in /home/prathmesh/.local/lib/python3.10/site-packages (from tensorboard<2.19,>=2.18->tensorflow) (3.0.4)\n",
      "Requirement already satisfied: MarkupSafe>=2.1.1 in /home/prathmesh/.local/lib/python3.10/site-packages (from werkzeug>=1.0.1->tensorboard<2.19,>=2.18->tensorflow) (2.1.5)\n",
      "Requirement already satisfied: pygments<3.0.0,>=2.13.0 in /home/prathmesh/.local/lib/python3.10/site-packages (from rich->keras>=3.5.0->tensorflow) (2.18.0)\n",
      "Requirement already satisfied: markdown-it-py>=2.2.0 in /home/prathmesh/.local/lib/python3.10/site-packages (from rich->keras>=3.5.0->tensorflow) (3.0.0)\n",
      "Requirement already satisfied: mdurl~=0.1 in /home/prathmesh/.local/lib/python3.10/site-packages (from markdown-it-py>=2.2.0->rich->keras>=3.5.0->tensorflow) (0.1.2)\n",
      "Note: you may need to restart the kernel to use updated packages.\n"
     ]
    }
   ],
   "source": [
    "pip install --upgrade tensorflow\n"
   ]
  },
  {
   "cell_type": "code",
   "execution_count": null,
   "id": "21456c6c-524e-48c3-bfcd-4cd4c43285ea",
   "metadata": {},
   "outputs": [],
   "source": []
  },
  {
   "cell_type": "code",
   "execution_count": 5,
   "id": "48c0fb75-646a-4955-9c13-67d88c60f7bd",
   "metadata": {},
   "outputs": [],
   "source": [
    "import numpy as np\n",
    "import pandas as pd\n",
    "import matplotlib.pyplot as plt\n",
    "import cv2\n",
    "from tqdm import tqdm\n",
    "import warnings\n",
    "warnings.filterwarnings('ignore')"
   ]
  },
  {
   "cell_type": "code",
   "execution_count": 6,
   "id": "4e1c8ac4-76d9-460d-b013-de14c16b0025",
   "metadata": {},
   "outputs": [
    {
     "name": "stdout",
     "output_type": "stream",
     "text": [
      "Defaulting to user installation because normal site-packages is not writeable\n",
      "Requirement already satisfied: tqdm in /home/prathmesh/.local/lib/python3.10/site-packages (4.67.1)\n",
      "Note: you may need to restart the kernel to use updated packages.\n"
     ]
    }
   ],
   "source": [
    "pip install tqdm\n"
   ]
  },
  {
   "cell_type": "code",
   "execution_count": 7,
   "id": "8e39022a-ed74-4e94-b800-f862998812c9",
   "metadata": {},
   "outputs": [
    {
     "name": "stdout",
     "output_type": "stream",
     "text": [
      "Defaulting to user installation because normal site-packages is not writeable\n",
      "Requirement already satisfied: opencv-python in /home/prathmesh/.local/lib/python3.10/site-packages (4.11.0.86)\n",
      "Requirement already satisfied: numpy>=1.21.2 in /home/prathmesh/.local/lib/python3.10/site-packages (from opencv-python) (2.0.0)\n",
      "Note: you may need to restart the kernel to use updated packages.\n"
     ]
    }
   ],
   "source": [
    "\n",
    "pip install --upgrade opencv-python\n"
   ]
  },
  {
   "cell_type": "code",
   "execution_count": 8,
   "id": "80f560ae-7f9b-426e-a8dc-fd9b849a29a1",
   "metadata": {},
   "outputs": [],
   "source": [
    "import numpy as np\n",
    "import pandas as pd\n",
    "import matplotlib.pyplot as plt\n",
    "import cv2\n",
    "from tqdm import tqdm\n",
    "import warnings\n",
    "warnings.filterwarnings('ignore')"
   ]
  },
  {
   "cell_type": "code",
   "execution_count": 9,
   "id": "032a63cd-83f8-448c-87ef-739e82576e0d",
   "metadata": {},
   "outputs": [],
   "source": [
    "train_path = 'Dataset/TRAIN'\n",
    "test_path = 'Dataset/TEST'\n"
   ]
  },
  {
   "cell_type": "code",
   "execution_count": 12,
   "id": "d0c4063f-cf26-4f00-80e7-d2c7267080f7",
   "metadata": {},
   "outputs": [],
   "source": [
    "from tensorflow.keras.models import Sequential\n",
    "from tensorflow.keras.layers import Conv2D, MaxPooling2D, Activation, Dropout, Flatten, Dense, BatchNormalization\n",
    "from tensorflow.keras.preprocessing.image import ImageDataGenerator,img_to_array,load_img\n",
    "from tensorflow.keras.utils import plot_model\n",
    "from glob import glob\n",
    "\n",
    "\n",
    "\n"
   ]
  },
  {
   "cell_type": "code",
   "execution_count": 13,
   "id": "11a86137-ca69-4ffa-a2d8-f7c94fb351ac",
   "metadata": {},
   "outputs": [
    {
     "name": "stderr",
     "output_type": "stream",
     "text": [
      "  0%|          | 0/9999 [00:00<?, ?it/s]"
     ]
    },
    {
     "name": "stderr",
     "output_type": "stream",
     "text": [
      "  0%|          | 30/9999 [00:00<00:07, 1327.21it/s]\n"
     ]
    },
    {
     "ename": "error",
     "evalue": "OpenCV(4.11.0) /io/opencv/modules/imgproc/src/color.cpp:199: error: (-215:Assertion failed) !_src.empty() in function 'cvtColor'\n",
     "output_type": "error",
     "traceback": [
      "\u001b[0;31m---------------------------------------------------------------------------\u001b[0m",
      "\u001b[0;31merror\u001b[0m                                     Traceback (most recent call last)",
      "Cell \u001b[0;32mIn[13], line 7\u001b[0m\n\u001b[1;32m      5\u001b[0m \u001b[38;5;28;01mfor\u001b[39;00m file \u001b[38;5;129;01min\u001b[39;00m tqdm(glob(category\u001b[38;5;241m+\u001b[39m\u001b[38;5;124m'\u001b[39m\u001b[38;5;124m/*\u001b[39m\u001b[38;5;124m'\u001b[39m)):\n\u001b[1;32m      6\u001b[0m     img_array\u001b[38;5;241m=\u001b[39mcv2\u001b[38;5;241m.\u001b[39mimread(file)\n\u001b[0;32m----> 7\u001b[0m     img_array\u001b[38;5;241m=\u001b[39m\u001b[43mcv2\u001b[49m\u001b[38;5;241;43m.\u001b[39;49m\u001b[43mcvtColor\u001b[49m\u001b[43m(\u001b[49m\u001b[43mimg_array\u001b[49m\u001b[43m,\u001b[49m\u001b[43mcv2\u001b[49m\u001b[38;5;241;43m.\u001b[39;49m\u001b[43mCOLOR_BGR2RGB\u001b[49m\u001b[43m)\u001b[49m\n\u001b[1;32m      8\u001b[0m     x_data\u001b[38;5;241m.\u001b[39mappend(img_array)\n\u001b[1;32m      9\u001b[0m     y_data\u001b[38;5;241m.\u001b[39mappend(category\u001b[38;5;241m.\u001b[39msplit(\u001b[38;5;124m'\u001b[39m\u001b[38;5;124m/\u001b[39m\u001b[38;5;124m'\u001b[39m)[\u001b[38;5;241m-\u001b[39m\u001b[38;5;241m1\u001b[39m])\n",
      "\u001b[0;31merror\u001b[0m: OpenCV(4.11.0) /io/opencv/modules/imgproc/src/color.cpp:199: error: (-215:Assertion failed) !_src.empty() in function 'cvtColor'\n"
     ]
    }
   ],
   "source": [
    "from cv2 import cvtColor\n",
    "x_data =[]\n",
    "y_data=[]\n",
    "for category in glob(train_path+'/*'):  \n",
    "    for file in tqdm(glob(category+'/*')):\n",
    "        img_array=cv2.imread(file)\n",
    "        img_array=cv2.cvtColor(img_array,cv2.COLOR_BGR2RGB)\n",
    "        x_data.append(img_array)\n",
    "        y_data.append(category.split('/')[-1])\n",
    "data=pd.DataFrame({'image':x_data,'label':y_data})\n",
    "        "
   ]
  },
  {
   "cell_type": "code",
   "execution_count": 14,
   "id": "4393174d-9e73-4c20-8c01-43e6b24a0429",
   "metadata": {},
   "outputs": [
    {
     "ename": "NameError",
     "evalue": "name 'data' is not defined",
     "output_type": "error",
     "traceback": [
      "\u001b[0;31m---------------------------------------------------------------------------\u001b[0m",
      "\u001b[0;31mNameError\u001b[0m                                 Traceback (most recent call last)",
      "Cell \u001b[0;32mIn[14], line 1\u001b[0m\n\u001b[0;32m----> 1\u001b[0m \u001b[43mdata\u001b[49m\u001b[38;5;241m.\u001b[39mshape\n",
      "\u001b[0;31mNameError\u001b[0m: name 'data' is not defined"
     ]
    }
   ],
   "source": [
    "data.shape"
   ]
  },
  {
   "cell_type": "code",
   "execution_count": 15,
   "id": "2e692692-94cf-4e8d-8610-0d9c195fa5e0",
   "metadata": {},
   "outputs": [
    {
     "name": "stderr",
     "output_type": "stream",
     "text": [
      "  2%|▏         | 213/9999 [00:00<00:09, 1080.82it/s]"
     ]
    },
    {
     "name": "stdout",
     "output_type": "stream",
     "text": [
      "Failed to load image: Dataset/TRAIN/R/R_7918.jpg\n"
     ]
    },
    {
     "name": "stderr",
     "output_type": "stream",
     "text": [
      "  7%|▋         | 680/9999 [00:00<00:08, 1155.47it/s]"
     ]
    },
    {
     "name": "stdout",
     "output_type": "stream",
     "text": [
      "Failed to load image: Dataset/TRAIN/R/R_8137.jpg\n",
      "Failed to load image: Dataset/TRAIN/R/R_8365.jpg\n",
      "Failed to load image: Dataset/TRAIN/R/R_2533.jpg\n"
     ]
    },
    {
     "name": "stderr",
     "output_type": "stream",
     "text": [
      " 11%|█▏        | 1135/9999 [00:01<00:08, 1020.18it/s]"
     ]
    },
    {
     "name": "stdout",
     "output_type": "stream",
     "text": [
      "Failed to load image: Dataset/TRAIN/R/R_4324.jpg\n",
      "Failed to load image: Dataset/TRAIN/R/R_1494.jpg\n"
     ]
    },
    {
     "name": "stderr",
     "output_type": "stream",
     "text": [
      " 15%|█▍        | 1456/9999 [00:01<00:08, 1051.83it/s]"
     ]
    },
    {
     "name": "stdout",
     "output_type": "stream",
     "text": [
      "Failed to load image: Dataset/TRAIN/R/R_7989.jpg\n",
      "Failed to load image: Dataset/TRAIN/R/R_799.jpg\n"
     ]
    },
    {
     "name": "stderr",
     "output_type": "stream",
     "text": [
      " 24%|██▍       | 2447/9999 [00:02<00:06, 1084.86it/s]"
     ]
    },
    {
     "name": "stdout",
     "output_type": "stream",
     "text": [
      "Failed to load image: Dataset/TRAIN/R/R_2077.jpg\n",
      "Failed to load image: Dataset/TRAIN/R/R_8324.jpg\n",
      "Failed to load image: Dataset/TRAIN/R/R_8195.jpg\n"
     ]
    },
    {
     "name": "stderr",
     "output_type": "stream",
     "text": [
      " 30%|███       | 3011/9999 [00:02<00:06, 1123.60it/s]"
     ]
    },
    {
     "name": "stdout",
     "output_type": "stream",
     "text": [
      "Failed to load image: Dataset/TRAIN/R/R_2478.jpg\n",
      "Failed to load image: Dataset/TRAIN/R/R_208.jpg\n",
      "Failed to load image: Dataset/TRAIN/R/R_7799.jpg\n"
     ]
    },
    {
     "name": "stderr",
     "output_type": "stream",
     "text": [
      " 34%|███▎      | 3358/9999 [00:03<00:05, 1141.22it/s]"
     ]
    },
    {
     "name": "stdout",
     "output_type": "stream",
     "text": [
      "Failed to load image: Dataset/TRAIN/R/R_1267.jpg\n",
      "Failed to load image: Dataset/TRAIN/R/R_7723.jpg\n"
     ]
    },
    {
     "name": "stderr",
     "output_type": "stream",
     "text": [
      " 40%|███▉      | 3998/9999 [00:03<00:06, 955.81it/s] "
     ]
    },
    {
     "name": "stdout",
     "output_type": "stream",
     "text": [
      "Failed to load image: Dataset/TRAIN/R/R_7351.jpg\n",
      "Failed to load image: Dataset/TRAIN/R/R_8141.jpg\n"
     ]
    },
    {
     "name": "stderr",
     "output_type": "stream",
     "text": [
      " 46%|████▌     | 4555/9999 [00:04<00:04, 1090.20it/s]"
     ]
    },
    {
     "name": "stdout",
     "output_type": "stream",
     "text": [
      "Failed to load image: Dataset/TRAIN/R/R_1733.jpg\n"
     ]
    },
    {
     "name": "stderr",
     "output_type": "stream",
     "text": [
      " 49%|████▉     | 4904/9999 [00:04<00:04, 1137.72it/s]"
     ]
    },
    {
     "name": "stdout",
     "output_type": "stream",
     "text": [
      "Failed to load image: Dataset/TRAIN/R/R_8303.jpg\n",
      "Failed to load image: Dataset/TRAIN/R/R_1177.jpg\n"
     ]
    },
    {
     "name": "stderr",
     "output_type": "stream",
     "text": [
      " 53%|█████▎    | 5261/9999 [00:05<00:04, 1132.09it/s]"
     ]
    },
    {
     "name": "stdout",
     "output_type": "stream",
     "text": [
      "Failed to load image: Dataset/TRAIN/R/R_7921.jpg\n",
      "Failed to load image: Dataset/TRAIN/R/R_1967.jpg\n",
      "Failed to load image: Dataset/TRAIN/R/R_8171.jpg\n"
     ]
    },
    {
     "name": "stderr",
     "output_type": "stream",
     "text": [
      " 55%|█████▍    | 5488/9999 [00:05<00:04, 1115.64it/s]"
     ]
    },
    {
     "name": "stdout",
     "output_type": "stream",
     "text": [
      "Failed to load image: Dataset/TRAIN/R/R_7824.jpg\n",
      "Failed to load image: Dataset/TRAIN/R/R_8119.jpg\n"
     ]
    },
    {
     "name": "stderr",
     "output_type": "stream",
     "text": [
      " 58%|█████▊    | 5838/9999 [00:05<00:03, 1136.64it/s]"
     ]
    },
    {
     "name": "stdout",
     "output_type": "stream",
     "text": [
      "Failed to load image: Dataset/TRAIN/R/R_1874.jpg\n",
      "Failed to load image: Dataset/TRAIN/R/R_8218.jpg\n",
      "Failed to load image: Dataset/TRAIN/R/R_7529.jpg\n"
     ]
    },
    {
     "name": "stderr",
     "output_type": "stream",
     "text": [
      " 61%|██████    | 6079/9999 [00:05<00:03, 1171.24it/s]"
     ]
    },
    {
     "name": "stdout",
     "output_type": "stream",
     "text": [
      "Failed to load image: Dataset/TRAIN/R/R_2022.jpg\n",
      "Failed to load image: Dataset/TRAIN/R/R_4873.jpg\n"
     ]
    },
    {
     "name": "stderr",
     "output_type": "stream",
     "text": [
      " 62%|██████▏   | 6197/9999 [00:05<00:03, 1157.15it/s]"
     ]
    },
    {
     "name": "stdout",
     "output_type": "stream",
     "text": [
      "Failed to load image: Dataset/TRAIN/R/R_7735.jpg\n"
     ]
    },
    {
     "name": "stderr",
     "output_type": "stream",
     "text": [
      " 67%|██████▋   | 6676/9999 [00:06<00:03, 1101.35it/s]"
     ]
    },
    {
     "name": "stdout",
     "output_type": "stream",
     "text": [
      "Failed to load image: Dataset/TRAIN/R/R_3156.jpg\n",
      "Failed to load image: Dataset/TRAIN/R/R_8373.jpg\n",
      "Failed to load image: Dataset/TRAIN/R/R_7454.jpg\n"
     ]
    },
    {
     "name": "stderr",
     "output_type": "stream",
     "text": [
      " 70%|███████   | 7045/9999 [00:06<00:02, 1178.52it/s]"
     ]
    },
    {
     "name": "stdout",
     "output_type": "stream",
     "text": [
      "Failed to load image: Dataset/TRAIN/R/R_3736.jpg\n",
      "Failed to load image: Dataset/TRAIN/R/R_1739.jpg\n"
     ]
    },
    {
     "name": "stderr",
     "output_type": "stream",
     "text": [
      " 73%|███████▎  | 7285/9999 [00:06<00:02, 1126.97it/s]"
     ]
    },
    {
     "name": "stdout",
     "output_type": "stream",
     "text": [
      "Failed to load image: Dataset/TRAIN/R/R_5769.jpg\n",
      "Failed to load image: Dataset/TRAIN/R/R_7261.jpg\n",
      "Failed to load image: Dataset/TRAIN/R/R_2486.jpg\n"
     ]
    },
    {
     "name": "stderr",
     "output_type": "stream",
     "text": [
      " 75%|███████▌  | 7506/9999 [00:07<00:02, 1004.10it/s]"
     ]
    },
    {
     "name": "stdout",
     "output_type": "stream",
     "text": [
      "Failed to load image: Dataset/TRAIN/R/R_8154.jpg\n",
      "Failed to load image: Dataset/TRAIN/R/R_7475.jpg\n",
      "Failed to load image: Dataset/TRAIN/R/R_7317.jpg\n"
     ]
    },
    {
     "name": "stderr",
     "output_type": "stream",
     "text": [
      " 77%|███████▋  | 7707/9999 [00:07<00:02, 961.63it/s] "
     ]
    },
    {
     "name": "stdout",
     "output_type": "stream",
     "text": [
      "Failed to load image: Dataset/TRAIN/R/R_7609.jpg\n"
     ]
    },
    {
     "name": "stderr",
     "output_type": "stream",
     "text": [
      " 81%|████████  | 8088/9999 [00:07<00:02, 938.05it/s]"
     ]
    },
    {
     "name": "stdout",
     "output_type": "stream",
     "text": [
      "Failed to load image: Dataset/TRAIN/R/R_816.jpg\n"
     ]
    },
    {
     "name": "stderr",
     "output_type": "stream",
     "text": [
      " 84%|████████▍ | 8410/9999 [00:08<00:01, 1023.72it/s]"
     ]
    },
    {
     "name": "stdout",
     "output_type": "stream",
     "text": [
      "Failed to load image: Dataset/TRAIN/R/R_7285.jpg\n"
     ]
    },
    {
     "name": "stderr",
     "output_type": "stream",
     "text": [
      " 92%|█████████▏| 9185/9999 [00:08<00:00, 1146.55it/s]"
     ]
    },
    {
     "name": "stdout",
     "output_type": "stream",
     "text": [
      "Failed to load image: Dataset/TRAIN/R/R_7978.jpg\n",
      "Failed to load image: Dataset/TRAIN/R/R_828.jpg\n"
     ]
    },
    {
     "name": "stderr",
     "output_type": "stream",
     "text": [
      " 97%|█████████▋| 9657/9999 [00:09<00:00, 1142.02it/s]"
     ]
    },
    {
     "name": "stdout",
     "output_type": "stream",
     "text": [
      "Failed to load image: Dataset/TRAIN/R/R_8215.jpg\n",
      "Failed to load image: Dataset/TRAIN/R/R_6246.jpg\n",
      "Failed to load image: Dataset/TRAIN/R/R_7796.jpg\n"
     ]
    },
    {
     "name": "stderr",
     "output_type": "stream",
     "text": [
      "100%|██████████| 9999/9999 [00:09<00:00, 1041.30it/s]"
     ]
    },
    {
     "name": "stdout",
     "output_type": "stream",
     "text": [
      "Failed to load image: Dataset/TRAIN/R/R_8399.jpg\n"
     ]
    },
    {
     "name": "stderr",
     "output_type": "stream",
     "text": [
      "\n"
     ]
    }
   ],
   "source": [
    "for file in tqdm(glob(category + '/*')):\n",
    "    img_array = cv2.imread(file)\n",
    "    if img_array is not None:  # Check if image was loaded\n",
    "        img_array = cv2.cvtColor(img_array, cv2.COLOR_BGR2RGB)\n",
    "        x_data.append(img_array)\n",
    "        y_data.append(category.split('/')[-1])\n",
    "    else:\n",
    "        print(f\"Failed to load image: {file}\")\n"
   ]
  },
  {
   "cell_type": "code",
   "execution_count": 16,
   "id": "b4174bd7-df18-43ac-8559-bfa78216fc42",
   "metadata": {},
   "outputs": [
    {
     "name": "stderr",
     "output_type": "stream",
     "text": [
      "  2%|▏         | 193/9999 [00:00<00:10, 961.59it/s]"
     ]
    },
    {
     "name": "stdout",
     "output_type": "stream",
     "text": [
      "Failed to load image: Dataset/TRAIN/R/R_7918.jpg\n"
     ]
    },
    {
     "name": "stderr",
     "output_type": "stream",
     "text": [
      "  8%|▊         | 842/9999 [00:00<00:05, 1573.89it/s]"
     ]
    },
    {
     "name": "stdout",
     "output_type": "stream",
     "text": [
      "Failed to load image: Dataset/TRAIN/R/R_8137.jpg\n",
      "Failed to load image: Dataset/TRAIN/R/R_8365.jpg\n",
      "Failed to load image: Dataset/TRAIN/R/R_2533.jpg\n"
     ]
    },
    {
     "name": "stderr",
     "output_type": "stream",
     "text": [
      " 12%|█▏        | 1173/9999 [00:00<00:05, 1606.26it/s]"
     ]
    },
    {
     "name": "stdout",
     "output_type": "stream",
     "text": [
      "Failed to load image: Dataset/TRAIN/R/R_4324.jpg\n",
      "Failed to load image: Dataset/TRAIN/R/R_1494.jpg\n"
     ]
    },
    {
     "name": "stderr",
     "output_type": "stream",
     "text": [
      " 17%|█▋        | 1714/9999 [00:01<00:04, 1717.41it/s]"
     ]
    },
    {
     "name": "stdout",
     "output_type": "stream",
     "text": [
      "Failed to load image: Dataset/TRAIN/R/R_7989.jpg\n",
      "Failed to load image: Dataset/TRAIN/R/R_799.jpg\n"
     ]
    },
    {
     "name": "stderr",
     "output_type": "stream",
     "text": [
      " 26%|██▌       | 2572/9999 [00:01<00:04, 1680.08it/s]"
     ]
    },
    {
     "name": "stdout",
     "output_type": "stream",
     "text": [
      "Failed to load image: Dataset/TRAIN/R/R_2077.jpg\n",
      "Failed to load image: Dataset/TRAIN/R/R_8324.jpg\n",
      "Failed to load image: Dataset/TRAIN/R/R_8195.jpg\n"
     ]
    },
    {
     "name": "stderr",
     "output_type": "stream",
     "text": [
      " 31%|███       | 3058/9999 [00:01<00:04, 1541.06it/s]"
     ]
    },
    {
     "name": "stdout",
     "output_type": "stream",
     "text": [
      "Failed to load image: Dataset/TRAIN/R/R_2478.jpg\n",
      "Failed to load image: Dataset/TRAIN/R/R_208.jpg\n",
      "Failed to load image: Dataset/TRAIN/R/R_7799.jpg\n"
     ]
    },
    {
     "name": "stderr",
     "output_type": "stream",
     "text": [
      " 34%|███▎      | 3364/9999 [00:02<00:04, 1485.16it/s]"
     ]
    },
    {
     "name": "stdout",
     "output_type": "stream",
     "text": [
      "Failed to load image: Dataset/TRAIN/R/R_1267.jpg\n",
      "Failed to load image: Dataset/TRAIN/R/R_7723.jpg\n"
     ]
    },
    {
     "name": "stderr",
     "output_type": "stream",
     "text": [
      " 40%|████      | 4001/9999 [00:02<00:04, 1425.95it/s]"
     ]
    },
    {
     "name": "stdout",
     "output_type": "stream",
     "text": [
      "Failed to load image: Dataset/TRAIN/R/R_7351.jpg\n",
      "Failed to load image: Dataset/TRAIN/R/R_8141.jpg\n"
     ]
    },
    {
     "name": "stderr",
     "output_type": "stream",
     "text": [
      " 47%|████▋     | 4672/9999 [00:03<00:03, 1578.43it/s]"
     ]
    },
    {
     "name": "stdout",
     "output_type": "stream",
     "text": [
      "Failed to load image: Dataset/TRAIN/R/R_1733.jpg\n"
     ]
    },
    {
     "name": "stderr",
     "output_type": "stream",
     "text": [
      " 50%|████▉     | 4987/9999 [00:03<00:03, 1512.65it/s]"
     ]
    },
    {
     "name": "stdout",
     "output_type": "stream",
     "text": [
      "Failed to load image: Dataset/TRAIN/R/R_8303.jpg\n",
      "Failed to load image: Dataset/TRAIN/R/R_1177.jpg\n"
     ]
    },
    {
     "name": "stderr",
     "output_type": "stream",
     "text": [
      " 53%|█████▎    | 5296/9999 [00:03<00:03, 1475.15it/s]"
     ]
    },
    {
     "name": "stdout",
     "output_type": "stream",
     "text": [
      "Failed to load image: Dataset/TRAIN/R/R_7921.jpg\n",
      "Failed to load image: Dataset/TRAIN/R/R_1967.jpg\n",
      "Failed to load image: Dataset/TRAIN/R/R_8171.jpg\n",
      "Failed to load image: Dataset/TRAIN/R/R_7824.jpg\n",
      "Failed to load image: Dataset/TRAIN/R/R_8119.jpg\n"
     ]
    },
    {
     "name": "stderr",
     "output_type": "stream",
     "text": [
      " 60%|█████▉    | 5955/9999 [00:03<00:02, 1552.73it/s]"
     ]
    },
    {
     "name": "stdout",
     "output_type": "stream",
     "text": [
      "Failed to load image: Dataset/TRAIN/R/R_1874.jpg\n",
      "Failed to load image: Dataset/TRAIN/R/R_8218.jpg\n",
      "Failed to load image: Dataset/TRAIN/R/R_7529.jpg\n",
      "Failed to load image: Dataset/TRAIN/R/R_2022.jpg\n"
     ]
    },
    {
     "name": "stderr",
     "output_type": "stream",
     "text": [
      " 63%|██████▎   | 6263/9999 [00:04<00:02, 1441.76it/s]"
     ]
    },
    {
     "name": "stdout",
     "output_type": "stream",
     "text": [
      "Failed to load image: Dataset/TRAIN/R/R_4873.jpg\n",
      "Failed to load image: Dataset/TRAIN/R/R_7735.jpg\n"
     ]
    },
    {
     "name": "stderr",
     "output_type": "stream",
     "text": [
      " 67%|██████▋   | 6728/9999 [00:04<00:02, 1498.47it/s]"
     ]
    },
    {
     "name": "stdout",
     "output_type": "stream",
     "text": [
      "Failed to load image: Dataset/TRAIN/R/R_3156.jpg\n",
      "Failed to load image: Dataset/TRAIN/R/R_8373.jpg\n",
      "Failed to load image: Dataset/TRAIN/R/R_7454.jpg\n"
     ]
    },
    {
     "name": "stderr",
     "output_type": "stream",
     "text": [
      " 70%|███████   | 7022/9999 [00:04<00:02, 1284.59it/s]"
     ]
    },
    {
     "name": "stdout",
     "output_type": "stream",
     "text": [
      "Failed to load image: Dataset/TRAIN/R/R_3736.jpg\n",
      "Failed to load image: Dataset/TRAIN/R/R_1739.jpg\n"
     ]
    },
    {
     "name": "stderr",
     "output_type": "stream",
     "text": [
      " 73%|███████▎  | 7306/9999 [00:05<00:02, 1104.49it/s]"
     ]
    },
    {
     "name": "stdout",
     "output_type": "stream",
     "text": [
      "Failed to load image: Dataset/TRAIN/R/R_5769.jpg\n",
      "Failed to load image: Dataset/TRAIN/R/R_7261.jpg\n",
      "Failed to load image: Dataset/TRAIN/R/R_2486.jpg\n",
      "Failed to load image: Dataset/TRAIN/R/R_8154.jpg\n"
     ]
    },
    {
     "name": "stderr",
     "output_type": "stream",
     "text": [
      " 76%|███████▌  | 7575/9999 [00:05<00:02, 1192.24it/s]"
     ]
    },
    {
     "name": "stdout",
     "output_type": "stream",
     "text": [
      "Failed to load image: Dataset/TRAIN/R/R_7475.jpg\n",
      "Failed to load image: Dataset/TRAIN/R/R_7317.jpg\n",
      "Failed to load image: Dataset/TRAIN/R/R_7609.jpg\n"
     ]
    },
    {
     "name": "stderr",
     "output_type": "stream",
     "text": [
      " 82%|████████▏ | 8175/9999 [00:05<00:01, 1424.29it/s]"
     ]
    },
    {
     "name": "stdout",
     "output_type": "stream",
     "text": [
      "Failed to load image: Dataset/TRAIN/R/R_816.jpg\n"
     ]
    },
    {
     "name": "stderr",
     "output_type": "stream",
     "text": [
      " 85%|████████▍ | 8466/9999 [00:05<00:01, 1377.77it/s]"
     ]
    },
    {
     "name": "stdout",
     "output_type": "stream",
     "text": [
      "Failed to load image: Dataset/TRAIN/R/R_7285.jpg\n"
     ]
    },
    {
     "name": "stderr",
     "output_type": "stream",
     "text": [
      " 92%|█████████▏| 9222/9999 [00:06<00:00, 1500.16it/s]"
     ]
    },
    {
     "name": "stdout",
     "output_type": "stream",
     "text": [
      "Failed to load image: Dataset/TRAIN/R/R_7978.jpg\n",
      "Failed to load image: Dataset/TRAIN/R/R_828.jpg\n"
     ]
    },
    {
     "name": "stderr",
     "output_type": "stream",
     "text": [
      " 97%|█████████▋| 9735/9999 [00:06<00:00, 1607.28it/s]"
     ]
    },
    {
     "name": "stdout",
     "output_type": "stream",
     "text": [
      "Failed to load image: Dataset/TRAIN/R/R_8215.jpg\n",
      "Failed to load image: Dataset/TRAIN/R/R_6246.jpg\n",
      "Failed to load image: Dataset/TRAIN/R/R_7796.jpg\n"
     ]
    },
    {
     "name": "stderr",
     "output_type": "stream",
     "text": [
      "100%|██████████| 9999/9999 [00:06<00:00, 1443.74it/s]\n"
     ]
    },
    {
     "name": "stdout",
     "output_type": "stream",
     "text": [
      "Failed to load image: Dataset/TRAIN/R/R_8399.jpg\n"
     ]
    },
    {
     "name": "stderr",
     "output_type": "stream",
     "text": [
      "  0%|          | 0/12565 [00:00<?, ?it/s]"
     ]
    },
    {
     "name": "stdout",
     "output_type": "stream",
     "text": [
      "Failed to load image: Dataset/TRAIN/O/O_1861.jpg\n"
     ]
    },
    {
     "name": "stderr",
     "output_type": "stream",
     "text": [
      "  3%|▎         | 394/12565 [00:00<00:15, 797.21it/s]"
     ]
    },
    {
     "name": "stdout",
     "output_type": "stream",
     "text": [
      "Failed to load image: Dataset/TRAIN/O/O_6410.jpg\n",
      "Failed to load image: Dataset/TRAIN/O/O_9146.jpg\n"
     ]
    },
    {
     "name": "stderr",
     "output_type": "stream",
     "text": [
      "  8%|▊         | 1066/12565 [00:01<00:14, 804.65it/s]"
     ]
    },
    {
     "name": "stdout",
     "output_type": "stream",
     "text": [
      "Failed to load image: Dataset/TRAIN/O/O_8581.jpg\n",
      "Failed to load image: Dataset/TRAIN/O/O_7570.jpg\n"
     ]
    },
    {
     "name": "stderr",
     "output_type": "stream",
     "text": [
      " 12%|█▏        | 1519/12565 [00:02<00:18, 610.82it/s]"
     ]
    },
    {
     "name": "stdout",
     "output_type": "stream",
     "text": [
      "Failed to load image: Dataset/TRAIN/O/O_1.jpg\n"
     ]
    },
    {
     "name": "stderr",
     "output_type": "stream",
     "text": [
      " 15%|█▌        | 1915/12565 [00:02<00:14, 754.57it/s]"
     ]
    },
    {
     "name": "stdout",
     "output_type": "stream",
     "text": [
      "Failed to load image: Dataset/TRAIN/O/O_6959.jpg\n"
     ]
    },
    {
     "name": "stderr",
     "output_type": "stream",
     "text": [
      " 25%|██▍       | 3094/12565 [00:04<00:10, 930.80it/s]"
     ]
    },
    {
     "name": "stdout",
     "output_type": "stream",
     "text": [
      "Failed to load image: Dataset/TRAIN/O/O_1862.jpg\n"
     ]
    },
    {
     "name": "stderr",
     "output_type": "stream",
     "text": [
      " 26%|██▌       | 3278/12565 [00:04<00:10, 875.27it/s]"
     ]
    },
    {
     "name": "stdout",
     "output_type": "stream",
     "text": [
      "Failed to load image: Dataset/TRAIN/O/O_9975.jpg\n"
     ]
    },
    {
     "name": "stderr",
     "output_type": "stream",
     "text": [
      " 31%|███▏      | 3928/12565 [00:05<00:11, 770.45it/s]"
     ]
    },
    {
     "name": "stdout",
     "output_type": "stream",
     "text": [
      "Failed to load image: Dataset/TRAIN/O/O_5788.jpg\n"
     ]
    },
    {
     "name": "stderr",
     "output_type": "stream",
     "text": [
      " 35%|███▌      | 4441/12565 [00:05<00:09, 822.99it/s]"
     ]
    },
    {
     "name": "stdout",
     "output_type": "stream",
     "text": [
      "Failed to load image: Dataset/TRAIN/O/O_10038.jpg\n"
     ]
    },
    {
     "name": "stderr",
     "output_type": "stream",
     "text": [
      " 37%|███▋      | 4609/12565 [00:06<00:09, 814.35it/s]"
     ]
    },
    {
     "name": "stdout",
     "output_type": "stream",
     "text": [
      "Failed to load image: Dataset/TRAIN/O/O_10417.jpg\n"
     ]
    },
    {
     "name": "stderr",
     "output_type": "stream",
     "text": [
      " 38%|███▊      | 4783/12565 [00:06<00:10, 753.26it/s]"
     ]
    },
    {
     "name": "stdout",
     "output_type": "stream",
     "text": [
      "Failed to load image: Dataset/TRAIN/O/O_8465.jpg\n"
     ]
    },
    {
     "name": "stderr",
     "output_type": "stream",
     "text": [
      " 43%|████▎     | 5363/12565 [00:07<00:10, 697.57it/s]"
     ]
    },
    {
     "name": "stdout",
     "output_type": "stream",
     "text": [
      "Failed to load image: Dataset/TRAIN/O/O_8498.jpg\n",
      "Failed to load image: Dataset/TRAIN/O/O_6650.jpg\n"
     ]
    },
    {
     "name": "stderr",
     "output_type": "stream",
     "text": [
      " 49%|████▊     | 6119/12565 [00:08<00:07, 867.57it/s]"
     ]
    },
    {
     "name": "stdout",
     "output_type": "stream",
     "text": [
      "Failed to load image: Dataset/TRAIN/O/O_4103.jpg\n"
     ]
    },
    {
     "name": "stderr",
     "output_type": "stream",
     "text": [
      " 55%|█████▌    | 6942/12565 [00:09<00:06, 880.19it/s]"
     ]
    },
    {
     "name": "stdout",
     "output_type": "stream",
     "text": [
      "Failed to load image: Dataset/TRAIN/O/O_3565.jpg\n"
     ]
    },
    {
     "name": "stderr",
     "output_type": "stream",
     "text": [
      " 57%|█████▋    | 7204/12565 [00:09<00:06, 827.79it/s]"
     ]
    },
    {
     "name": "stdout",
     "output_type": "stream",
     "text": [
      "Failed to load image: Dataset/TRAIN/O/O_9870.jpg\n"
     ]
    },
    {
     "name": "stderr",
     "output_type": "stream",
     "text": [
      " 58%|█████▊    | 7288/12565 [00:09<00:06, 802.83it/s]"
     ]
    },
    {
     "name": "stdout",
     "output_type": "stream",
     "text": [
      "Failed to load image: Dataset/TRAIN/O/O_6967.jpg\n"
     ]
    },
    {
     "name": "stderr",
     "output_type": "stream",
     "text": [
      " 61%|██████    | 7695/12565 [00:10<00:06, 736.31it/s]"
     ]
    },
    {
     "name": "stdout",
     "output_type": "stream",
     "text": [
      "Failed to load image: Dataset/TRAIN/O/O_4367.jpg\n"
     ]
    },
    {
     "name": "stderr",
     "output_type": "stream",
     "text": [
      " 63%|██████▎   | 7934/12565 [00:10<00:06, 730.26it/s]"
     ]
    },
    {
     "name": "stdout",
     "output_type": "stream",
     "text": [
      "Failed to load image: Dataset/TRAIN/O/O_7269.jpg\n",
      "Failed to load image: Dataset/TRAIN/O/O_7238.jpg\n"
     ]
    },
    {
     "name": "stderr",
     "output_type": "stream",
     "text": [
      " 65%|██████▌   | 8174/12565 [00:10<00:06, 708.44it/s]"
     ]
    },
    {
     "name": "stdout",
     "output_type": "stream",
     "text": [
      "Failed to load image: Dataset/TRAIN/O/O_11664.jpg\n"
     ]
    },
    {
     "name": "stderr",
     "output_type": "stream",
     "text": [
      " 69%|██████▉   | 8689/12565 [00:11<00:04, 863.57it/s]"
     ]
    },
    {
     "name": "stdout",
     "output_type": "stream",
     "text": [
      "Failed to load image: Dataset/TRAIN/O/O_3533.jpg\n"
     ]
    },
    {
     "name": "stderr",
     "output_type": "stream",
     "text": [
      " 88%|████████▊ | 11010/12565 [00:14<00:02, 731.81it/s]"
     ]
    },
    {
     "name": "stdout",
     "output_type": "stream",
     "text": [
      "Failed to load image: Dataset/TRAIN/O/O_4948.jpg\n",
      "Failed to load image: Dataset/TRAIN/O/O_3227.jpg\n"
     ]
    },
    {
     "name": "stderr",
     "output_type": "stream",
     "text": [
      " 95%|█████████▍| 11931/12565 [00:16<00:01, 626.19it/s]"
     ]
    },
    {
     "name": "stdout",
     "output_type": "stream",
     "text": [
      "Failed to load image: Dataset/TRAIN/O/O_1264.jpg\n"
     ]
    },
    {
     "name": "stderr",
     "output_type": "stream",
     "text": [
      " 97%|█████████▋| 12249/12565 [00:16<00:00, 678.27it/s]"
     ]
    },
    {
     "name": "stdout",
     "output_type": "stream",
     "text": [
      "Failed to load image: Dataset/TRAIN/O/O_7017.jpg\n"
     ]
    },
    {
     "name": "stderr",
     "output_type": "stream",
     "text": [
      "100%|██████████| 12565/12565 [00:17<00:00, 735.73it/s]\n"
     ]
    }
   ],
   "source": [
    "import os\n",
    "\n",
    "valid_extensions = ('.jpg', '.jpeg', '.png', '.bmp', '.tiff')  # Add other supported formats as needed\n",
    "\n",
    "\n",
    "for category in glob(train_path+'/*'):\n",
    " for file in tqdm(glob(category + '/*')):\n",
    "    if file.lower().endswith(valid_extensions):\n",
    "        img_array = cv2.imread(file)\n",
    "        if img_array is not None:\n",
    "            img_array = cv2.cvtColor(img_array, cv2.COLOR_BGR2RGB)\n",
    "            x_data.append(img_array)\n",
    "            y_data.append(category.split('/')[-1])\n",
    "        else:\n",
    "            print(f\"Failed to load image: {file}\")\n",
    "    else:\n",
    "        print(f\"Unsupported file format: {file}\")\n",
    "\n",
    "\n",
    "data=pd.DataFrame({'image':x_data,'label':y_data})\n",
    "        \n",
    "    \n"
   ]
  },
  {
   "cell_type": "code",
   "execution_count": 17,
   "id": "dee76921-6125-442f-828c-07e45c2a5467",
   "metadata": {},
   "outputs": [
    {
     "data": {
      "text/plain": [
       "(32461, 2)"
      ]
     },
     "execution_count": 17,
     "metadata": {},
     "output_type": "execute_result"
    }
   ],
   "source": [
    "data.shape"
   ]
  },
  {
   "cell_type": "code",
   "execution_count": 19,
   "id": "9bd3c1d4-2f01-4d81-b816-0cdd464bd121",
   "metadata": {},
   "outputs": [
    {
     "data": {
      "image/png": "[encoded data removed]",
      "text/plain": [
       "<Figure size 640x480 with 1 Axes>"
      ]
     },
     "metadata": {},
     "output_type": "display_data"
    }
   ],
   "source": [
    "colors=['#a0d157','#c48bb8']\n",
    "plt.pie(data.label.value_counts(),labels=['organic','Recyclable'])\n",
    "plt.show()"
   ]
  },
  {
   "cell_type": "code",
   "execution_count": 20,
   "id": "ac3514a2-3f3f-4308-80c4-67e082c06859",
   "metadata": {},
   "outputs": [
    {
     "name": "stdout",
     "output_type": "stream",
     "text": [
      "label\n",
      "R    19924\n",
      "O    12537\n",
      "Name: count, dtype: int64\n",
      "['R', 'O']\n"
     ]
    },
    {
     "data": {
      "image/png": "[encoded data removed]",
      "text/plain": [
       "<Figure size 640x480 with 1 Axes>"
      ]
     },
     "metadata": {},
     "output_type": "display_data"
    }
   ],
   "source": [
    "import matplotlib.pyplot as plt\n",
    "\n",
    "# Get the value counts for the labels\n",
    "label_counts = data['label'].value_counts()\n",
    "print(label_counts)\n",
    "\n",
    "# Use the unique labels dynamically instead of hardcoding\n",
    "labels = label_counts.index.tolist()\n",
    "print(labels)\n",
    "# Plot the pie chart\n",
    "plt.pie(label_counts, labels=labels, colors=['#a0d157','#c48bb8'],autopct='%0.2f%%', )\n",
    "plt.show()\n"
   ]
  },
  {
   "cell_type": "code",
   "execution_count": 21,
   "id": "de2133ae-afac-4d9c-b962-1527153166d4",
   "metadata": {},
   "outputs": [
    {
     "name": "stdout",
     "output_type": "stream",
     "text": [
      "Total images processed: 32461\n",
      "Categories found: {'O', 'R'}\n"
     ]
    }
   ],
   "source": [
    "print(f\"Total images processed: {len(x_data)}\")\n",
    "print(f\"Categories found: {set(y_data)}\")\n"
   ]
  },
  {
   "cell_type": "code",
   "execution_count": null,
   "id": "77f7f1de-83b3-4b68-a3b4-1e32cedfe207",
   "metadata": {},
   "outputs": [],
   "source": []
  }
 ],
 "metadata": {
  "kernelspec": {
   "display_name": "Python 3",
   "language": "python",
   "name": "python3"
  },
  "language_info": {
   "codemirror_mode": {
    "name": "ipython",
    "version": 3
   },
   "file_extension": ".py",
   "mimetype": "text/x-python",
   "name": "python",
   "nbconvert_exporter": "python",
   "pygments_lexer": "ipython3",
   "version": "3.10.12"
  }
 },
 "nbformat": 4,
 "nbformat_minor": 5
}
